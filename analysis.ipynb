{
  "nbformat": 4,
  "nbformat_minor": 0,
  "metadata": {
    "colab": {
      "provenance": []
    },
    "kernelspec": {
      "name": "python3",
      "display_name": "Python 3"
    },
    "language_info": {
      "name": "python"
    }
  },
  "cells": [
    {
      "cell_type": "code",
      "execution_count": 1,
      "metadata": {
        "colab": {
          "base_uri": "https://localhost:8080/"
        },
        "id": "SOw-PnB32BS8",
        "outputId": "3c1c462e-cbdb-4f53-c67f-f041a28fee7f"
      },
      "outputs": [
        {
          "output_type": "stream",
          "name": "stdout",
          "text": [
            "Hello, Mental Health Awareness Project!\n"
          ]
        }
      ],
      "source": [
        " print(\"Hello, Mental Health Awareness Project!\")"
      ]
    }
  ]
}